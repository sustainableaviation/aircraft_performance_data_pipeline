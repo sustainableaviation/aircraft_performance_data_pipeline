{
 "cells": [
  {
   "cell_type": "code",
   "execution_count": 1,
   "metadata": {},
   "outputs": [],
   "source": [
    "import sys\n",
    "import os\n",
    "module_path = os.path.abspath(\"/Users/michaelweinold/github/aircraftdetective\")\n",
    "if module_path not in sys.path:\n",
    "    sys.path.append(module_path)\n",
    "\n",
    "from aircraftdetective.calculations import engines"
   ]
  },
  {
   "cell_type": "code",
   "execution_count": 2,
   "metadata": {},
   "outputs": [],
   "source": [
    "import pandas as pd"
   ]
  },
  {
   "cell_type": "code",
   "execution_count": 6,
   "metadata": {},
   "outputs": [
    {
     "data": {
      "text/html": [
       "<div>\n",
       "<style scoped>\n",
       "    .dataframe tbody tr th:only-of-type {\n",
       "        vertical-align: middle;\n",
       "    }\n",
       "\n",
       "    .dataframe tbody tr th {\n",
       "        vertical-align: top;\n",
       "    }\n",
       "\n",
       "    .dataframe thead th {\n",
       "        text-align: right;\n",
       "    }\n",
       "</style>\n",
       "<table border=\"1\" class=\"dataframe\">\n",
       "  <thead>\n",
       "    <tr style=\"text-align: right;\">\n",
       "      <th></th>\n",
       "      <th>Unnamed: 0</th>\n",
       "      <th>Issue</th>\n",
       "      <th>Date</th>\n",
       "      <th>Detail of Changes</th>\n",
       "    </tr>\n",
       "  </thead>\n",
       "  <tbody>\n",
       "    <tr>\n",
       "      <th>0</th>\n",
       "      <td>NaN</td>\n",
       "      <td>NaN</td>\n",
       "      <td>NaN</td>\n",
       "      <td>NaN</td>\n",
       "    </tr>\n",
       "    <tr>\n",
       "      <th>1</th>\n",
       "      <td>NaN</td>\n",
       "      <td>30.0</td>\n",
       "      <td>2024-07-23 00:00:00</td>\n",
       "      <td>Issue 30 implemented on Website</td>\n",
       "    </tr>\n",
       "    <tr>\n",
       "      <th>2</th>\n",
       "      <td>NaN</td>\n",
       "      <td>NaN</td>\n",
       "      <td>NaN</td>\n",
       "      <td>NEW:   New data for gaseous &amp; nvPM emissions f...</td>\n",
       "    </tr>\n",
       "    <tr>\n",
       "      <th>3</th>\n",
       "      <td>NaN</td>\n",
       "      <td>NaN</td>\n",
       "      <td>NaN</td>\n",
       "      <td>Corrected [nvPM EInum Max] values ...</td>\n",
       "    </tr>\n",
       "    <tr>\n",
       "      <th>4</th>\n",
       "      <td>NaN</td>\n",
       "      <td>NaN</td>\n",
       "      <td>NaN</td>\n",
       "      <td>01P18RR121-01P18RR124, 01P21RR125,...</td>\n",
       "    </tr>\n",
       "    <tr>\n",
       "      <th>...</th>\n",
       "      <td>...</td>\n",
       "      <td>...</td>\n",
       "      <td>...</td>\n",
       "      <td>...</td>\n",
       "    </tr>\n",
       "    <tr>\n",
       "      <th>335</th>\n",
       "      <td>NaN</td>\n",
       "      <td>NaN</td>\n",
       "      <td>NaN</td>\n",
       "      <td>PW4168A</td>\n",
       "    </tr>\n",
       "    <tr>\n",
       "      <th>336</th>\n",
       "      <td>NaN</td>\n",
       "      <td>NaN</td>\n",
       "      <td>NaN</td>\n",
       "      <td>NaN</td>\n",
       "    </tr>\n",
       "    <tr>\n",
       "      <th>337</th>\n",
       "      <td>NaN</td>\n",
       "      <td>1.0</td>\n",
       "      <td>1998-03-10 00:00:00</td>\n",
       "      <td>First full issue of the databank on the internet</td>\n",
       "    </tr>\n",
       "    <tr>\n",
       "      <th>338</th>\n",
       "      <td>NaN</td>\n",
       "      <td>NaN</td>\n",
       "      <td>NaN</td>\n",
       "      <td>NaN</td>\n",
       "    </tr>\n",
       "    <tr>\n",
       "      <th>339</th>\n",
       "      <td>NaN</td>\n",
       "      <td>NaN</td>\n",
       "      <td>1995</td>\n",
       "      <td>ICAO Engine Exhaust Emissions Databank, ICAO D...</td>\n",
       "    </tr>\n",
       "  </tbody>\n",
       "</table>\n",
       "<p>340 rows × 4 columns</p>\n",
       "</div>"
      ],
      "text/plain": [
       "     Unnamed: 0  Issue                 Date  \\\n",
       "0           NaN    NaN                  NaN   \n",
       "1           NaN   30.0  2024-07-23 00:00:00   \n",
       "2           NaN    NaN                  NaN   \n",
       "3           NaN    NaN                  NaN   \n",
       "4           NaN    NaN                  NaN   \n",
       "..          ...    ...                  ...   \n",
       "335         NaN    NaN                  NaN   \n",
       "336         NaN    NaN                  NaN   \n",
       "337         NaN    1.0  1998-03-10 00:00:00   \n",
       "338         NaN    NaN                  NaN   \n",
       "339         NaN    NaN                 1995   \n",
       "\n",
       "                                     Detail of Changes  \n",
       "0                                                  NaN  \n",
       "1                      Issue 30 implemented on Website  \n",
       "2    NEW:   New data for gaseous & nvPM emissions f...  \n",
       "3                Corrected [nvPM EInum Max] values ...  \n",
       "4                01P18RR121-01P18RR124, 01P21RR125,...  \n",
       "..                                                 ...  \n",
       "335                                            PW4168A  \n",
       "336                                                NaN  \n",
       "337   First full issue of the databank on the internet  \n",
       "338                                                NaN  \n",
       "339  ICAO Engine Exhaust Emissions Databank, ICAO D...  \n",
       "\n",
       "[340 rows x 4 columns]"
      ]
     },
     "execution_count": 6,
     "metadata": {},
     "output_type": "execute_result"
    }
   ],
   "source": [
    "pd.read_excel(\"https://www.easa.europa.eu/en/downloads/131424/en\")"
   ]
  },
  {
   "cell_type": "code",
   "execution_count": 3,
   "metadata": {},
   "outputs": [
    {
     "data": {
      "text/plain": [
       "(Polynomial([19.73263263,  4.2917748 ], domain=[ 7.72047244, 18.37173857], window=[-1.,  1.], symbol='x'),\n",
       " Polynomial([20.28613569,  4.28767803, -1.58473034], domain=[ 7.72047244, 18.37173857], window=[-1.,  1.], symbol='x'),\n",
       " np.float64(0.7876940784878377),\n",
       " np.float64(0.8074706697742047))"
      ]
     },
     "execution_count": 3,
     "metadata": {},
     "output_type": "execute_result"
    }
   ],
   "source": [
    "engines.determine_takeoff_to_cruise_tsfc_ratio(\n",
    "    path_excel_engine_data_for_calibration=\"/Users/michaelweinold/Library/CloudStorage/OneDrive-TheWeinoldFamily/Documents/University/PhD/Data/Aircraft Performance/Engine Database (TSFC Data).xlsx\"\n",
    ")"
   ]
  },
  {
   "cell_type": "code",
   "execution_count": null,
   "metadata": {},
   "outputs": [],
   "source": [
    "engines.scale_engine_data_from_icao_emissions_database(\n",
    "    path_excel_engine_data_icao_in = \"https://www.easa.europa.eu/en/downloads/131424/en\",\n",
    "    path_excel_engine_data_icao_out: \"calibrated_engine_data_icao.xlsx\",\n",
    "    scaling_polynomial: np.polynomial.Polynomial\n",
    ")"
   ]
  }
 ],
 "metadata": {
  "kernelspec": {
   "display_name": "aircraft_performance",
   "language": "python",
   "name": "python3"
  },
  "language_info": {
   "codemirror_mode": {
    "name": "ipython",
    "version": 3
   },
   "file_extension": ".py",
   "mimetype": "text/x-python",
   "name": "python",
   "nbconvert_exporter": "python",
   "pygments_lexer": "ipython3",
   "version": "3.13.0"
  }
 },
 "nbformat": 4,
 "nbformat_minor": 2
}
