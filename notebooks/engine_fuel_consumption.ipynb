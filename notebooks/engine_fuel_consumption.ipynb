{
 "cells": [
  {
   "cell_type": "code",
   "execution_count": 4,
   "metadata": {},
   "outputs": [],
   "source": [
    "import sys\n",
    "import os\n",
    "module_path = os.path.abspath(\"/Users/michaelweinold/github/aircraftdetective\")\n",
    "if module_path not in sys.path:\n",
    "    sys.path.append(module_path)\n",
    "\n",
    "from aircraftdetective.calculations import engines"
   ]
  },
  {
   "cell_type": "code",
   "execution_count": 5,
   "metadata": {},
   "outputs": [],
   "source": [
    "import pandas as pd"
   ]
  },
  {
   "cell_type": "code",
   "execution_count": 6,
   "metadata": {},
   "outputs": [
    {
     "data": {
      "text/plain": [
       "(Polynomial([19.73263263,  4.2917748 ], domain=[ 7.72047244, 18.37173857], window=[-1.,  1.], symbol='x'),\n",
       " Polynomial([20.28613569,  4.28767803, -1.58473034], domain=[ 7.72047244, 18.37173857], window=[-1.,  1.], symbol='x'),\n",
       " np.float64(0.7876940784878377),\n",
       " np.float64(0.8074706697742047))"
      ]
     },
     "execution_count": 6,
     "metadata": {},
     "output_type": "execute_result"
    }
   ],
   "source": [
    "engines.determine_takeoff_to_cruise_tsfc_ratio(\n",
    "    path_excel_engine_data_for_calibration=\"/Users/michaelweinold/Library/CloudStorage/OneDrive-TheWeinoldFamily/Documents/University/PhD/Data/Aircraft Performance/Engine Database (TSFC Data).xlsx\"\n",
    ")"
   ]
  },
  {
   "cell_type": "code",
   "execution_count": 7,
   "metadata": {},
   "outputs": [
    {
     "ename": "SyntaxError",
     "evalue": "positional argument follows keyword argument (1335535537.py, line 3)",
     "output_type": "error",
     "traceback": [
      "\u001b[0;36m  Cell \u001b[0;32mIn[7], line 3\u001b[0;36m\u001b[0m\n\u001b[0;31m    path_excel_engine_data_icao_out: \"calibrated_engine_data_icao.xlsx\",\u001b[0m\n\u001b[0m                                   ^\u001b[0m\n\u001b[0;31mSyntaxError\u001b[0m\u001b[0;31m:\u001b[0m positional argument follows keyword argument\n"
     ]
    }
   ],
   "source": [
    "engines.scale_engine_data_from_icao_emissions_database(\n",
    "    path_excel_engine_data_icao_in = \"https://www.easa.europa.eu/en/downloads/131424/en\",\n",
    "    path_excel_engine_data_icao_out= \"calibrated_engine_data_icao.xlsx\",\n",
    "    scaling_polynomial: np.polynomial.Polynomial\n",
    ")"
   ]
  },
  {
   "cell_type": "code",
   "execution_count": null,
   "metadata": {},
   "outputs": [],
   "source": []
  }
 ],
 "metadata": {
  "kernelspec": {
   "display_name": "aircraft_performance",
   "language": "python",
   "name": "python3"
  },
  "language_info": {
   "codemirror_mode": {
    "name": "ipython",
    "version": 3
   },
   "file_extension": ".py",
   "mimetype": "text/x-python",
   "name": "python",
   "nbconvert_exporter": "python",
   "pygments_lexer": "ipython3",
   "version": "3.13.0"
  }
 },
 "nbformat": 4,
 "nbformat_minor": 2
}
